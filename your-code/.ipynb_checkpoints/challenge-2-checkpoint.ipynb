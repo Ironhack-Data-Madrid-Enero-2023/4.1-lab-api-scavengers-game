{
 "cells": [
  {
   "cell_type": "markdown",
   "id": "threaded-asbestos",
   "metadata": {},
   "source": [
    "# Challenge 2: Count Commits\n",
    "\n",
    "Count how many commits were made in the past week.\n",
    "\n",
    "Obtain all the commits made in the past week via API, which is a JSON array that contains multiple commit objects.\n",
    "\n",
    "Count how many commit objects are contained in the array."
   ]
  },
  {
   "cell_type": "markdown",
   "id": "norwegian-praise",
   "metadata": {},
   "source": [
    "⚠️ **Remember to limit your output before submission**."
   ]
  },
  {
   "cell_type": "code",
   "execution_count": 1,
   "id": "developing-printing",
   "metadata": {},
   "outputs": [],
   "source": [
    "import json\n",
    "import requests as req"
   ]
  },
  {
   "cell_type": "code",
   "execution_count": 2,
   "id": "creative-stable",
   "metadata": {},
   "outputs": [],
   "source": [
    " HEADER={'Authorization': 'token ' + 'your_token'}"
   ]
  },
  {
   "cell_type": "code",
   "execution_count": 3,
   "id": "ongoing-taylor",
   "metadata": {},
   "outputs": [
    {
     "data": {
      "text/plain": [
       "[]"
      ]
     },
     "execution_count": 3,
     "metadata": {},
     "output_type": "execute_result"
    }
   ],
   "source": [
    "url='https://api.github.com/repos/ironhack-datalabs/datamad1020-rev/commits?since={2023-01-30T15:51:00Z}'\n",
    "\n",
    "res = req.get(url, headers=HEADER)\n",
    "\n",
    "res = res.json()\n",
    "\n",
    "res"
   ]
  },
  {
   "cell_type": "code",
   "execution_count": 4,
   "id": "b0809c75",
   "metadata": {},
   "outputs": [
    {
     "data": {
      "text/plain": [
       "0"
      ]
     },
     "execution_count": 4,
     "metadata": {},
     "output_type": "execute_result"
    }
   ],
   "source": [
    "count = 0\n",
    "\n",
    "for k in res:\n",
    "    \n",
    "    count+=1\n",
    "    \n",
    "count"
   ]
  },
  {
   "cell_type": "code",
   "execution_count": 8,
   "id": "29d3e872",
   "metadata": {},
   "outputs": [
    {
     "data": {
      "text/plain": [
       "[{'sha': '9276d3d2dff66a38d05b02f04db829c29cc6f7e2',\n",
       "  'node_id': 'C_kwDOI5ROlNoAKDkyNzZkM2QyZGZmNjZhMzhkMDViMDJmMDRkYjgyOWMyOWNjNmY3ZTI',\n",
       "  'commit': {'author': {'name': 'Jorge',\n",
       "    'email': 'jorge.freire.serrano@gmail.com',\n",
       "    'date': '2023-02-05T15:21:30Z'},\n",
       "   'committer': {'name': 'GitHub',\n",
       "    'email': 'noreply@github.com',\n",
       "    'date': '2023-02-05T15:21:30Z'},\n",
       "   'message': 'Update Querys.sql',\n",
       "   'tree': {'sha': '43e8a4247a3613a47882c9567b6ec25c65cdf553',\n",
       "    'url': 'https://api.github.com/repos/jorgefreires/Videoclub-database-project/git/trees/43e8a4247a3613a47882c9567b6ec25c65cdf553'},\n",
       "   'url': 'https://api.github.com/repos/jorgefreires/Videoclub-database-project/git/commits/9276d3d2dff66a38d05b02f04db829c29cc6f7e2',\n",
       "   'comment_count': 0,\n",
       "   'verification': {'verified': True,\n",
       "    'reason': 'valid',\n",
       "    'signature': '-----BEGIN PGP SIGNATURE-----\\n\\nwsBcBAABCAAQBQJj38l6CRBK7hj4Ov3rIwAAmKsIALCMwC6Exihe4FHt2y3Z7eXN\\nKq6L8vq2FYwE12f7ZgnvGCOmN1gI/d/RQ+7af5K9+X7pY4BWOokfmVtJ9ovFwjI8\\npJqyfGR7V2QpTQRXuUGYWgFlppLIS9gStExeCmDgEjoYc2Uf/UDRpJ9FWA52rAhL\\n3MFg7wHuU34wdDJudh43/zd8CYw44EPFhzASXsO/HGdicK+7qlmA9QtwexEklclw\\nYvhA8AXaT5dXjcTUku9djamadD6VpE1n/P6q6Gj4f+rMRURcBEtrrLdemUVS/4IA\\n3NVlhEOoBbgGknNsB/Az21Z8lnoO7iSWUqbEksIXvn9VX6rOZZjO5MS6bhBKO+k=\\n=YRuo\\n-----END PGP SIGNATURE-----\\n',\n",
       "    'payload': 'tree 43e8a4247a3613a47882c9567b6ec25c65cdf553\\nparent 7a5cecb051e96c8e50b43584ff8548c25be6ef2c\\nauthor Jorge <jorge.freire.serrano@gmail.com> 1675610490 +0100\\ncommitter GitHub <noreply@github.com> 1675610490 +0100\\n\\nUpdate Querys.sql'}},\n",
       "  'url': 'https://api.github.com/repos/jorgefreires/Videoclub-database-project/commits/9276d3d2dff66a38d05b02f04db829c29cc6f7e2',\n",
       "  'html_url': 'https://github.com/jorgefreires/Videoclub-database-project/commit/9276d3d2dff66a38d05b02f04db829c29cc6f7e2',\n",
       "  'comments_url': 'https://api.github.com/repos/jorgefreires/Videoclub-database-project/commits/9276d3d2dff66a38d05b02f04db829c29cc6f7e2/comments',\n",
       "  'author': {'login': 'jorgefreires',\n",
       "   'id': 22744916,\n",
       "   'node_id': 'MDQ6VXNlcjIyNzQ0OTE2',\n",
       "   'avatar_url': 'https://avatars.githubusercontent.com/u/22744916?v=4',\n",
       "   'gravatar_id': '',\n",
       "   'url': 'https://api.github.com/users/jorgefreires',\n",
       "   'html_url': 'https://github.com/jorgefreires',\n",
       "   'followers_url': 'https://api.github.com/users/jorgefreires/followers',\n",
       "   'following_url': 'https://api.github.com/users/jorgefreires/following{/other_user}',\n",
       "   'gists_url': 'https://api.github.com/users/jorgefreires/gists{/gist_id}',\n",
       "   'starred_url': 'https://api.github.com/users/jorgefreires/starred{/owner}{/repo}',\n",
       "   'subscriptions_url': 'https://api.github.com/users/jorgefreires/subscriptions',\n",
       "   'organizations_url': 'https://api.github.com/users/jorgefreires/orgs',\n",
       "   'repos_url': 'https://api.github.com/users/jorgefreires/repos',\n",
       "   'events_url': 'https://api.github.com/users/jorgefreires/events{/privacy}',\n",
       "   'received_events_url': 'https://api.github.com/users/jorgefreires/received_events',\n",
       "   'type': 'User',\n",
       "   'site_admin': False},\n",
       "  'committer': {'login': 'web-flow',\n",
       "   'id': 19864447,\n",
       "   'node_id': 'MDQ6VXNlcjE5ODY0NDQ3',\n",
       "   'avatar_url': 'https://avatars.githubusercontent.com/u/19864447?v=4',\n",
       "   'gravatar_id': '',\n",
       "   'url': 'https://api.github.com/users/web-flow',\n",
       "   'html_url': 'https://github.com/web-flow',\n",
       "   'followers_url': 'https://api.github.com/users/web-flow/followers',\n",
       "   'following_url': 'https://api.github.com/users/web-flow/following{/other_user}',\n",
       "   'gists_url': 'https://api.github.com/users/web-flow/gists{/gist_id}',\n",
       "   'starred_url': 'https://api.github.com/users/web-flow/starred{/owner}{/repo}',\n",
       "   'subscriptions_url': 'https://api.github.com/users/web-flow/subscriptions',\n",
       "   'organizations_url': 'https://api.github.com/users/web-flow/orgs',\n",
       "   'repos_url': 'https://api.github.com/users/web-flow/repos',\n",
       "   'events_url': 'https://api.github.com/users/web-flow/events{/privacy}',\n",
       "   'received_events_url': 'https://api.github.com/users/web-flow/received_events',\n",
       "   'type': 'User',\n",
       "   'site_admin': False},\n",
       "  'parents': [{'sha': '7a5cecb051e96c8e50b43584ff8548c25be6ef2c',\n",
       "    'url': 'https://api.github.com/repos/jorgefreires/Videoclub-database-project/commits/7a5cecb051e96c8e50b43584ff8548c25be6ef2c',\n",
       "    'html_url': 'https://github.com/jorgefreires/Videoclub-database-project/commit/7a5cecb051e96c8e50b43584ff8548c25be6ef2c'}]}]"
      ]
     },
     "execution_count": 8,
     "metadata": {},
     "output_type": "execute_result"
    }
   ],
   "source": [
    "# Para probar si funciona y no da vacio por error\n",
    "\n",
    "url='https://api.github.com/repos/jorgefreires/Videoclub-database-project/commits?since={2023-01-30T15:51:00Z}'\n",
    "\n",
    "res = req.get(url, headers=HEADER).json()\n",
    "\n",
    "res[:1]"
   ]
  },
  {
   "cell_type": "code",
   "execution_count": 9,
   "id": "e4313492",
   "metadata": {},
   "outputs": [
    {
     "data": {
      "text/plain": [
       "10"
      ]
     },
     "execution_count": 9,
     "metadata": {},
     "output_type": "execute_result"
    }
   ],
   "source": [
    "count = 0\n",
    "\n",
    "for k in res:\n",
    "    \n",
    "    count += 1\n",
    "    \n",
    "count"
   ]
  },
  {
   "cell_type": "code",
   "execution_count": 10,
   "id": "abba7626",
   "metadata": {},
   "outputs": [
    {
     "data": {
      "text/plain": [
       "{'author': {'name': 'Jorge',\n",
       "  'email': 'jorge.freire.serrano@gmail.com',\n",
       "  'date': '2023-02-05T15:21:30Z'},\n",
       " 'committer': {'name': 'GitHub',\n",
       "  'email': 'noreply@github.com',\n",
       "  'date': '2023-02-05T15:21:30Z'},\n",
       " 'message': 'Update Querys.sql',\n",
       " 'tree': {'sha': '43e8a4247a3613a47882c9567b6ec25c65cdf553',\n",
       "  'url': 'https://api.github.com/repos/jorgefreires/Videoclub-database-project/git/trees/43e8a4247a3613a47882c9567b6ec25c65cdf553'},\n",
       " 'url': 'https://api.github.com/repos/jorgefreires/Videoclub-database-project/git/commits/9276d3d2dff66a38d05b02f04db829c29cc6f7e2',\n",
       " 'comment_count': 0,\n",
       " 'verification': {'verified': True,\n",
       "  'reason': 'valid',\n",
       "  'signature': '-----BEGIN PGP SIGNATURE-----\\n\\nwsBcBAABCAAQBQJj38l6CRBK7hj4Ov3rIwAAmKsIALCMwC6Exihe4FHt2y3Z7eXN\\nKq6L8vq2FYwE12f7ZgnvGCOmN1gI/d/RQ+7af5K9+X7pY4BWOokfmVtJ9ovFwjI8\\npJqyfGR7V2QpTQRXuUGYWgFlppLIS9gStExeCmDgEjoYc2Uf/UDRpJ9FWA52rAhL\\n3MFg7wHuU34wdDJudh43/zd8CYw44EPFhzASXsO/HGdicK+7qlmA9QtwexEklclw\\nYvhA8AXaT5dXjcTUku9djamadD6VpE1n/P6q6Gj4f+rMRURcBEtrrLdemUVS/4IA\\n3NVlhEOoBbgGknNsB/Az21Z8lnoO7iSWUqbEksIXvn9VX6rOZZjO5MS6bhBKO+k=\\n=YRuo\\n-----END PGP SIGNATURE-----\\n',\n",
       "  'payload': 'tree 43e8a4247a3613a47882c9567b6ec25c65cdf553\\nparent 7a5cecb051e96c8e50b43584ff8548c25be6ef2c\\nauthor Jorge <jorge.freire.serrano@gmail.com> 1675610490 +0100\\ncommitter GitHub <noreply@github.com> 1675610490 +0100\\n\\nUpdate Querys.sql'}}"
      ]
     },
     "execution_count": 10,
     "metadata": {},
     "output_type": "execute_result"
    }
   ],
   "source": [
    "lst = []\n",
    "\n",
    "for k in res:\n",
    "    \n",
    "    lst.append(k['commit'])\n",
    "    \n",
    "lst[0]"
   ]
  }
 ],
 "metadata": {
  "kernelspec": {
   "display_name": "Python 3 (ipykernel)",
   "language": "python",
   "name": "python3"
  },
  "language_info": {
   "codemirror_mode": {
    "name": "ipython",
    "version": 3
   },
   "file_extension": ".py",
   "mimetype": "text/x-python",
   "name": "python",
   "nbconvert_exporter": "python",
   "pygments_lexer": "ipython3",
   "version": "3.9.13"
  },
  "toc": {
   "base_numbering": 1,
   "nav_menu": {},
   "number_sections": true,
   "sideBar": true,
   "skip_h1_title": true,
   "title_cell": "Table of Contents",
   "title_sidebar": "Contents",
   "toc_cell": false,
   "toc_position": {
    "height": "calc(100% - 180px)",
    "left": "10px",
    "top": "150px",
    "width": "288px"
   },
   "toc_section_display": true,
   "toc_window_display": true
  }
 },
 "nbformat": 4,
 "nbformat_minor": 5
}
