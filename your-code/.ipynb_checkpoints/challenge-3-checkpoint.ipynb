{
 "cells": [
  {
   "cell_type": "markdown",
   "id": "defensive-clock",
   "metadata": {},
   "source": [
    "# Challenge 3: Hidden Cold Joke\n",
    "\n",
    "Using Python, call Github API to find out the cold joke contained in the 24 secret files in the following repo:\n",
    "\n",
    "https://github.com/ironhack-datalabs/scavenger\n",
    "\n",
    "The filenames of the secret files contain .scavengerhunt and they are scattered in different directories of this repo. The secret files are named from .0001.scavengerhunt to .0024.scavengerhunt. They are scattered randomly throughout this repo. You need to search for these files by calling the Github API, not searching the local files on your computer.\n",
    "\n",
    "\n",
    "After you find out the secrete files:\n",
    "\n",
    "Sort the filenames ascendingly.\n",
    "\n",
    "Read the content of each secret files into an array of strings.\n",
    "\n",
    "Concatenate the strings in the array separating each two with a whitespace.\n",
    "\n",
    "Print out the joke."
   ]
  },
  {
   "cell_type": "markdown",
   "id": "universal-length",
   "metadata": {},
   "source": [
    "⚠️ **Remember to limit your output before submission**."
   ]
  },
  {
   "cell_type": "code",
   "execution_count": 1,
   "id": "toxic-trading",
   "metadata": {},
   "outputs": [],
   "source": [
    "import json\n",
    "import requests as req\n",
    "import re\n",
    "import base64"
   ]
  },
  {
   "cell_type": "code",
   "execution_count": 2,
   "id": "static-stopping",
   "metadata": {},
   "outputs": [],
   "source": [
    " HEADER={'Authorization': 'token ' + 'your_token'}"
   ]
  },
  {
   "cell_type": "code",
   "execution_count": 3,
   "id": "221aa72c",
   "metadata": {},
   "outputs": [],
   "source": [
    "# Obtener una lista con las url de cada carpeta\n",
    "\n",
    "url='https://api.github.com/repos/ironhack-datalabs/scavenger/contents'\n",
    "\n",
    "res = req.get(url, headers=HEADER).json()\n",
    "\n",
    "lst = []\n",
    "\n",
    "for k in res:\n",
    "    \n",
    "    lst.append(k['url'])"
   ]
  },
  {
   "cell_type": "code",
   "execution_count": 4,
   "id": "462e1239",
   "metadata": {},
   "outputs": [],
   "source": [
    "# Hacer una lista con los json de cada carpeta (url anteriores)\n",
    "\n",
    "lst2 = []\n",
    "\n",
    "for link in lst:\n",
    "    \n",
    "    url  = link\n",
    "\n",
    "    lst2.append(req.get(url, headers=HEADER).json())"
   ]
  },
  {
   "cell_type": "code",
   "execution_count": 5,
   "id": "22c94edf",
   "metadata": {},
   "outputs": [
    {
     "data": {
      "text/plain": [
       "{'name': '.gitignore',\n",
       " 'path': '.gitignore',\n",
       " 'sha': 'e43b0f988953ae3a84b00331d0ccf5f7d51cb3cf',\n",
       " 'size': 10,\n",
       " 'url': 'https://api.github.com/repos/ironhack-datalabs/scavenger/contents/.gitignore?ref=master',\n",
       " 'html_url': 'https://github.com/ironhack-datalabs/scavenger/blob/master/.gitignore',\n",
       " 'git_url': 'https://api.github.com/repos/ironhack-datalabs/scavenger/git/blobs/e43b0f988953ae3a84b00331d0ccf5f7d51cb3cf',\n",
       " 'download_url': 'https://raw.githubusercontent.com/ironhack-datalabs/scavenger/master/.gitignore',\n",
       " 'type': 'file',\n",
       " 'content': 'LkRTX1N0b3JlCg==\\n',\n",
       " 'encoding': 'base64',\n",
       " '_links': {'self': 'https://api.github.com/repos/ironhack-datalabs/scavenger/contents/.gitignore?ref=master',\n",
       "  'git': 'https://api.github.com/repos/ironhack-datalabs/scavenger/git/blobs/e43b0f988953ae3a84b00331d0ccf5f7d51cb3cf',\n",
       "  'html': 'https://github.com/ironhack-datalabs/scavenger/blob/master/.gitignore'}}"
      ]
     },
     "execution_count": 5,
     "metadata": {},
     "output_type": "execute_result"
    }
   ],
   "source": [
    "lst2.pop(0)"
   ]
  },
  {
   "cell_type": "code",
   "execution_count": 6,
   "id": "a86af427",
   "metadata": {},
   "outputs": [],
   "source": [
    "# Crear lista con solo aquellos json que nos interesan\n",
    "\n",
    "lst3 = []\n",
    "\n",
    "for e in lst2:\n",
    "    \n",
    "    for i in e:\n",
    "        \n",
    "        if re.search(r'^.00', i['name']): lst3.append(i)\n",
    "        else: pass"
   ]
  },
  {
   "cell_type": "code",
   "execution_count": 7,
   "id": "27414455",
   "metadata": {},
   "outputs": [],
   "source": [
    "# Ordenar lista\n",
    "\n",
    "lst3 = sorted(lst3, key=lambda x: x['name'])"
   ]
  },
  {
   "cell_type": "code",
   "execution_count": 8,
   "id": "0f328abf",
   "metadata": {},
   "outputs": [],
   "source": [
    "# Obtener listas con los urls de los archivos\n",
    "\n",
    "lst4=[]\n",
    "\n",
    "for e in lst3:\n",
    "    \n",
    "    lst4.append(e['git_url'])\n"
   ]
  },
  {
   "cell_type": "code",
   "execution_count": 12,
   "id": "b73b152e",
   "metadata": {},
   "outputs": [
    {
     "data": {
      "text/plain": [
       "'In data science, 80 percent of time spent is preparing data, 20 percent of time is spent complaining about the need to prepare data. '"
      ]
     },
     "execution_count": 12,
     "metadata": {},
     "output_type": "execute_result"
    }
   ],
   "source": [
    "# Descodificar cada archivo y meter su contenido en una sola str\n",
    "\n",
    "str = ''\n",
    "\n",
    "for e in lst4:\n",
    "    \n",
    "    content = req.get(e, headers=HEADER).content\n",
    "    response_dict = json.loads(content)\n",
    "    encoded_content = response_dict[\"content\"]\n",
    "    decoded_content = base64.b64decode(encoded_content).decode(\"utf-8\")\n",
    "    str += (decoded_content)\n",
    "    \n",
    "str.replace('\\n', ' ')"
   ]
  }
 ],
 "metadata": {
  "kernelspec": {
   "display_name": "Python 3 (ipykernel)",
   "language": "python",
   "name": "python3"
  },
  "language_info": {
   "codemirror_mode": {
    "name": "ipython",
    "version": 3
   },
   "file_extension": ".py",
   "mimetype": "text/x-python",
   "name": "python",
   "nbconvert_exporter": "python",
   "pygments_lexer": "ipython3",
   "version": "3.9.13"
  },
  "toc": {
   "base_numbering": 1,
   "nav_menu": {},
   "number_sections": true,
   "sideBar": true,
   "skip_h1_title": true,
   "title_cell": "Table of Contents",
   "title_sidebar": "Contents",
   "toc_cell": false,
   "toc_position": {},
   "toc_section_display": true,
   "toc_window_display": true
  }
 },
 "nbformat": 4,
 "nbformat_minor": 5
}
