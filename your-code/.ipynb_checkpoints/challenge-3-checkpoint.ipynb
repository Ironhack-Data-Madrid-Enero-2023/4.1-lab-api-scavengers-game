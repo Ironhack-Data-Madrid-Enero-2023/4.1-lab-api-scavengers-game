{
 "cells": [
  {
   "cell_type": "markdown",
   "id": "defensive-clock",
   "metadata": {},
   "source": [
    "# Challenge 3: Hidden Cold Joke\n",
    "\n",
    "Using Python, call Github API to find out the cold joke contained in the 24 secret files in the following repo:\n",
    "\n",
    "https://github.com/ironhack-datalabs/scavenger\n",
    "\n",
    "The filenames of the secret files contain .scavengerhunt and they are scattered in different directories of this repo. The secret files are named from .0001.scavengerhunt to .0024.scavengerhunt. They are scattered randomly throughout this repo. You need to search for these files by calling the Github API, not searching the local files on your computer.\n",
    "\n",
    "\n",
    "After you find out the secrete files:\n",
    "\n",
    "Sort the filenames ascendingly.\n",
    "\n",
    "Read the content of each secret files into an array of strings.\n",
    "\n",
    "Concatenate the strings in the array separating each two with a whitespace.\n",
    "\n",
    "Print out the joke."
   ]
  },
  {
   "cell_type": "markdown",
   "id": "universal-length",
   "metadata": {},
   "source": [
    "⚠️ **Remember to limit your output before submission**."
   ]
  },
  {
   "cell_type": "code",
   "execution_count": 8,
   "id": "bf805622",
   "metadata": {},
   "outputs": [],
   "source": [
    "import requests as req"
   ]
  },
  {
   "cell_type": "code",
   "execution_count": 35,
   "id": "toxic-trading",
   "metadata": {},
   "outputs": [],
   "source": [
    "url = 'https://api.github.com/repos/ironhack-datalabs/scavenger/commits/9308ccc8a4c34c5e3a991ee815222a9691c32476'\n",
    "\n",
    "scavenger = req.get(url).json()"
   ]
  },
  {
   "cell_type": "code",
   "execution_count": 79,
   "id": "e95d424b",
   "metadata": {},
   "outputs": [],
   "source": [
    "#files = scavenger['files']"
   ]
  },
  {
   "cell_type": "code",
   "execution_count": 80,
   "id": "6681c318",
   "metadata": {},
   "outputs": [],
   "source": [
    "links = []\n",
    "for e in range(len(scavenger['files'])):\n",
    "    if (scavenger['files'][e]['raw_url']).endswith('scavengerhunt'):\n",
    "        links.append(scavenger['files'][e]['raw_url'])"
   ]
  },
  {
   "cell_type": "code",
   "execution_count": 81,
   "id": "2a2dc29b",
   "metadata": {},
   "outputs": [],
   "source": [
    "sorted_links = sorted(links, key = lambda x: int(x[101:105]))"
   ]
  },
  {
   "cell_type": "code",
   "execution_count": 82,
   "id": "72d27347",
   "metadata": {},
   "outputs": [
    {
     "data": {
      "text/plain": [
       "['In\\n',\n",
       " 'data\\n',\n",
       " 'science,\\n',\n",
       " '80\\n',\n",
       " 'percent\\n',\n",
       " 'of\\n',\n",
       " 'time\\n',\n",
       " 'spent\\n',\n",
       " 'is\\n',\n",
       " 'preparing\\n',\n",
       " 'data,\\n',\n",
       " '20\\n',\n",
       " 'percent\\n',\n",
       " 'of\\n',\n",
       " 'time\\n',\n",
       " 'is\\n',\n",
       " 'spent\\n',\n",
       " 'complaining\\n',\n",
       " 'about\\n',\n",
       " 'the\\n',\n",
       " 'need\\n',\n",
       " 'to\\n',\n",
       " 'prepare\\n',\n",
       " 'data.\\n']"
      ]
     },
     "execution_count": 82,
     "metadata": {},
     "output_type": "execute_result"
    }
   ],
   "source": [
    "cold_joke = []\n",
    "for e in sorted_links:\n",
    "    temp = (req.get(e)).text\n",
    "    cold_joke.append(temp)\n",
    "\n",
    "cold_joke"
   ]
  },
  {
   "cell_type": "code",
   "execution_count": 83,
   "id": "6edf1a6e",
   "metadata": {},
   "outputs": [],
   "source": [
    "cold_joke = ''.join(cold_joke)"
   ]
  },
  {
   "cell_type": "code",
   "execution_count": 84,
   "id": "a555ea19",
   "metadata": {},
   "outputs": [],
   "source": [
    "cold_joke = cold_joke.replace('\\n',' ')"
   ]
  },
  {
   "cell_type": "code",
   "execution_count": 85,
   "id": "97dda549",
   "metadata": {},
   "outputs": [
    {
     "data": {
      "text/plain": [
       "'In data science, 80 percent of time spent is preparing data, 20 percent of time is spent complaining about the need to prepare data. '"
      ]
     },
     "execution_count": 85,
     "metadata": {},
     "output_type": "execute_result"
    }
   ],
   "source": [
    "cold_joke"
   ]
  }
 ],
 "metadata": {
  "kernelspec": {
   "display_name": "Python 3 (ipykernel)",
   "language": "python",
   "name": "python3"
  },
  "language_info": {
   "codemirror_mode": {
    "name": "ipython",
    "version": 3
   },
   "file_extension": ".py",
   "mimetype": "text/x-python",
   "name": "python",
   "nbconvert_exporter": "python",
   "pygments_lexer": "ipython3",
   "version": "3.9.13"
  },
  "toc": {
   "base_numbering": 1,
   "nav_menu": {},
   "number_sections": true,
   "sideBar": true,
   "skip_h1_title": true,
   "title_cell": "Table of Contents",
   "title_sidebar": "Contents",
   "toc_cell": false,
   "toc_position": {},
   "toc_section_display": true,
   "toc_window_display": true
  }
 },
 "nbformat": 4,
 "nbformat_minor": 5
}
