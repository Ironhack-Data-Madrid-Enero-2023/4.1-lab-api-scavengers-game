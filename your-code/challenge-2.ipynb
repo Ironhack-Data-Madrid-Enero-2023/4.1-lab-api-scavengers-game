{
 "cells": [
  {
   "cell_type": "markdown",
   "id": "threaded-asbestos",
   "metadata": {},
   "source": [
    "# Challenge 2: Count Commits\n",
    "\n",
    "Count how many commits were made in the past week.\n",
    "\n",
    "Obtain all the commits made in the past week via API, which is a JSON array that contains multiple commit objects.\n",
    "\n",
    "Count how many commit objects are contained in the array."
   ]
  },
  {
   "cell_type": "markdown",
   "id": "norwegian-praise",
   "metadata": {},
   "source": [
    "⚠️ **Remember to limit your output before submission**."
   ]
  },
  {
   "cell_type": "code",
   "execution_count": 1,
   "id": "developing-printing",
   "metadata": {},
   "outputs": [],
   "source": [
    "import requests as req"
   ]
  },
  {
   "cell_type": "code",
   "execution_count": 2,
   "id": "creative-stable",
   "metadata": {},
   "outputs": [],
   "source": [
    "# Example: print(variable[:10]) "
   ]
  },
  {
   "cell_type": "code",
   "execution_count": 3,
   "id": "ongoing-taylor",
   "metadata": {},
   "outputs": [],
   "source": [
    "with open('../passs.txt', 'r') as pwd:\n",
    "    pass_ = pwd.readlines()[0]\n",
    "\n",
    "HEADER={'Authorization': 'token ' + pass_}"
   ]
  },
  {
   "cell_type": "code",
   "execution_count": 4,
   "id": "cb0e73f0",
   "metadata": {},
   "outputs": [
    {
     "data": {
      "text/plain": [
       "<Response [200]>"
      ]
     },
     "execution_count": 4,
     "metadata": {},
     "output_type": "execute_result"
    }
   ],
   "source": [
    "url = 'https://api.github.com/repos/ironhack-datalabs/datamad1020-rev/commits'\n",
    "res_git=req.get(url, headers=HEADER)\n",
    "\n",
    "res_git"
   ]
  },
  {
   "cell_type": "code",
   "execution_count": 39,
   "id": "1fa91ecf",
   "metadata": {},
   "outputs": [
    {
     "data": {
      "text/plain": [
       "[{'sha': 'fea506d7ac06d81508e67e623ff9c1193893a848',\n",
       "  'node_id': 'C_kwDOI2cUFdoAKGZlYTUwNmQ3YWMwNmQ4MTUwOGU2N2U2MjNmZjljMTE5Mzg5M2E4NDg',\n",
       "  'commit': {'author': {'name': 'alvarolorenzoti',\n",
       "    'email': 'alvarolorenzoti@gmail.com',\n",
       "    'date': '2023-01-31T11:49:20Z'},\n",
       "   'committer': {'name': 'alvarolorenzoti',\n",
       "    'email': 'alvarolorenzoti@gmail.com',\n",
       "    'date': '2023-01-31T11:49:20Z'},\n",
       "   'message': 'describe esto2',\n",
       "   'tree': {'sha': '8710e82122b873d9b317db9ff2e361a0427d5ea9',\n",
       "    'url': 'https://api.github.com/repos/alorenzoti/Project-shark/git/trees/8710e82122b873d9b317db9ff2e361a0427d5ea9'},\n",
       "   'url': 'https://api.github.com/repos/alorenzoti/Project-shark/git/commits/fea506d7ac06d81508e67e623ff9c1193893a848',\n",
       "   'comment_count': 0,\n",
       "   'verification': {'verified': False,\n",
       "    'reason': 'unsigned',\n",
       "    'signature': None,\n",
       "    'payload': None}},\n",
       "  'url': 'https://api.github.com/repos/alorenzoti/Project-shark/commits/fea506d7ac06d81508e67e623ff9c1193893a848',\n",
       "  'html_url': 'https://github.com/alorenzoti/Project-shark/commit/fea506d7ac06d81508e67e623ff9c1193893a848',\n",
       "  'comments_url': 'https://api.github.com/repos/alorenzoti/Project-shark/commits/fea506d7ac06d81508e67e623ff9c1193893a848/comments',\n",
       "  'author': {'login': 'alorenzoti',\n",
       "   'id': 78368326,\n",
       "   'node_id': 'MDQ6VXNlcjc4MzY4MzI2',\n",
       "   'avatar_url': 'https://avatars.githubusercontent.com/u/78368326?v=4',\n",
       "   'gravatar_id': '',\n",
       "   'url': 'https://api.github.com/users/alorenzoti',\n",
       "   'html_url': 'https://github.com/alorenzoti',\n",
       "   'followers_url': 'https://api.github.com/users/alorenzoti/followers',\n",
       "   'following_url': 'https://api.github.com/users/alorenzoti/following{/other_user}',\n",
       "   'gists_url': 'https://api.github.com/users/alorenzoti/gists{/gist_id}',\n",
       "   'starred_url': 'https://api.github.com/users/alorenzoti/starred{/owner}{/repo}',\n",
       "   'subscriptions_url': 'https://api.github.com/users/alorenzoti/subscriptions',\n",
       "   'organizations_url': 'https://api.github.com/users/alorenzoti/orgs',\n",
       "   'repos_url': 'https://api.github.com/users/alorenzoti/repos',\n",
       "   'events_url': 'https://api.github.com/users/alorenzoti/events{/privacy}',\n",
       "   'received_events_url': 'https://api.github.com/users/alorenzoti/received_events',\n",
       "   'type': 'User',\n",
       "   'site_admin': False},\n",
       "  'committer': {'login': 'alorenzoti',\n",
       "   'id': 78368326,\n",
       "   'node_id': 'MDQ6VXNlcjc4MzY4MzI2',\n",
       "   'avatar_url': 'https://avatars.githubusercontent.com/u/78368326?v=4',\n",
       "   'gravatar_id': '',\n",
       "   'url': 'https://api.github.com/users/alorenzoti',\n",
       "   'html_url': 'https://github.com/alorenzoti',\n",
       "   'followers_url': 'https://api.github.com/users/alorenzoti/followers',\n",
       "   'following_url': 'https://api.github.com/users/alorenzoti/following{/other_user}',\n",
       "   'gists_url': 'https://api.github.com/users/alorenzoti/gists{/gist_id}',\n",
       "   'starred_url': 'https://api.github.com/users/alorenzoti/starred{/owner}{/repo}',\n",
       "   'subscriptions_url': 'https://api.github.com/users/alorenzoti/subscriptions',\n",
       "   'organizations_url': 'https://api.github.com/users/alorenzoti/orgs',\n",
       "   'repos_url': 'https://api.github.com/users/alorenzoti/repos',\n",
       "   'events_url': 'https://api.github.com/users/alorenzoti/events{/privacy}',\n",
       "   'received_events_url': 'https://api.github.com/users/alorenzoti/received_events',\n",
       "   'type': 'User',\n",
       "   'site_admin': False},\n",
       "  'parents': [{'sha': '1f0568ff8e3cf9e06e63995a3ee29e7983d79f17',\n",
       "    'url': 'https://api.github.com/repos/alorenzoti/Project-shark/commits/1f0568ff8e3cf9e06e63995a3ee29e7983d79f17',\n",
       "    'html_url': 'https://github.com/alorenzoti/Project-shark/commit/1f0568ff8e3cf9e06e63995a3ee29e7983d79f17'}]}]"
      ]
     },
     "execution_count": 39,
     "metadata": {},
     "output_type": "execute_result"
    }
   ],
   "source": [
    "res_git.json()[:1]"
   ]
  },
  {
   "cell_type": "code",
   "execution_count": 6,
   "id": "286c0b99",
   "metadata": {},
   "outputs": [
    {
     "data": {
      "text/plain": [
       "<Response [200]>"
      ]
     },
     "execution_count": 6,
     "metadata": {},
     "output_type": "execute_result"
    }
   ],
   "source": [
    "url = 'https://api.github.com/repos/ironhack-datalabs/datamad1020-rev/commits?since={2023-01-30T00:00:01Z}'\n",
    "res_git=req.get(url, headers=HEADER)\n",
    "\n",
    "res_git"
   ]
  },
  {
   "cell_type": "code",
   "execution_count": 40,
   "id": "c59764b9",
   "metadata": {},
   "outputs": [
    {
     "data": {
      "text/plain": [
       "[{'sha': 'fea506d7ac06d81508e67e623ff9c1193893a848',\n",
       "  'node_id': 'C_kwDOI2cUFdoAKGZlYTUwNmQ3YWMwNmQ4MTUwOGU2N2U2MjNmZjljMTE5Mzg5M2E4NDg',\n",
       "  'commit': {'author': {'name': 'alvarolorenzoti',\n",
       "    'email': 'alvarolorenzoti@gmail.com',\n",
       "    'date': '2023-01-31T11:49:20Z'},\n",
       "   'committer': {'name': 'alvarolorenzoti',\n",
       "    'email': 'alvarolorenzoti@gmail.com',\n",
       "    'date': '2023-01-31T11:49:20Z'},\n",
       "   'message': 'describe esto2',\n",
       "   'tree': {'sha': '8710e82122b873d9b317db9ff2e361a0427d5ea9',\n",
       "    'url': 'https://api.github.com/repos/alorenzoti/Project-shark/git/trees/8710e82122b873d9b317db9ff2e361a0427d5ea9'},\n",
       "   'url': 'https://api.github.com/repos/alorenzoti/Project-shark/git/commits/fea506d7ac06d81508e67e623ff9c1193893a848',\n",
       "   'comment_count': 0,\n",
       "   'verification': {'verified': False,\n",
       "    'reason': 'unsigned',\n",
       "    'signature': None,\n",
       "    'payload': None}},\n",
       "  'url': 'https://api.github.com/repos/alorenzoti/Project-shark/commits/fea506d7ac06d81508e67e623ff9c1193893a848',\n",
       "  'html_url': 'https://github.com/alorenzoti/Project-shark/commit/fea506d7ac06d81508e67e623ff9c1193893a848',\n",
       "  'comments_url': 'https://api.github.com/repos/alorenzoti/Project-shark/commits/fea506d7ac06d81508e67e623ff9c1193893a848/comments',\n",
       "  'author': {'login': 'alorenzoti',\n",
       "   'id': 78368326,\n",
       "   'node_id': 'MDQ6VXNlcjc4MzY4MzI2',\n",
       "   'avatar_url': 'https://avatars.githubusercontent.com/u/78368326?v=4',\n",
       "   'gravatar_id': '',\n",
       "   'url': 'https://api.github.com/users/alorenzoti',\n",
       "   'html_url': 'https://github.com/alorenzoti',\n",
       "   'followers_url': 'https://api.github.com/users/alorenzoti/followers',\n",
       "   'following_url': 'https://api.github.com/users/alorenzoti/following{/other_user}',\n",
       "   'gists_url': 'https://api.github.com/users/alorenzoti/gists{/gist_id}',\n",
       "   'starred_url': 'https://api.github.com/users/alorenzoti/starred{/owner}{/repo}',\n",
       "   'subscriptions_url': 'https://api.github.com/users/alorenzoti/subscriptions',\n",
       "   'organizations_url': 'https://api.github.com/users/alorenzoti/orgs',\n",
       "   'repos_url': 'https://api.github.com/users/alorenzoti/repos',\n",
       "   'events_url': 'https://api.github.com/users/alorenzoti/events{/privacy}',\n",
       "   'received_events_url': 'https://api.github.com/users/alorenzoti/received_events',\n",
       "   'type': 'User',\n",
       "   'site_admin': False},\n",
       "  'committer': {'login': 'alorenzoti',\n",
       "   'id': 78368326,\n",
       "   'node_id': 'MDQ6VXNlcjc4MzY4MzI2',\n",
       "   'avatar_url': 'https://avatars.githubusercontent.com/u/78368326?v=4',\n",
       "   'gravatar_id': '',\n",
       "   'url': 'https://api.github.com/users/alorenzoti',\n",
       "   'html_url': 'https://github.com/alorenzoti',\n",
       "   'followers_url': 'https://api.github.com/users/alorenzoti/followers',\n",
       "   'following_url': 'https://api.github.com/users/alorenzoti/following{/other_user}',\n",
       "   'gists_url': 'https://api.github.com/users/alorenzoti/gists{/gist_id}',\n",
       "   'starred_url': 'https://api.github.com/users/alorenzoti/starred{/owner}{/repo}',\n",
       "   'subscriptions_url': 'https://api.github.com/users/alorenzoti/subscriptions',\n",
       "   'organizations_url': 'https://api.github.com/users/alorenzoti/orgs',\n",
       "   'repos_url': 'https://api.github.com/users/alorenzoti/repos',\n",
       "   'events_url': 'https://api.github.com/users/alorenzoti/events{/privacy}',\n",
       "   'received_events_url': 'https://api.github.com/users/alorenzoti/received_events',\n",
       "   'type': 'User',\n",
       "   'site_admin': False},\n",
       "  'parents': [{'sha': '1f0568ff8e3cf9e06e63995a3ee29e7983d79f17',\n",
       "    'url': 'https://api.github.com/repos/alorenzoti/Project-shark/commits/1f0568ff8e3cf9e06e63995a3ee29e7983d79f17',\n",
       "    'html_url': 'https://github.com/alorenzoti/Project-shark/commit/1f0568ff8e3cf9e06e63995a3ee29e7983d79f17'}]}]"
      ]
     },
     "execution_count": 40,
     "metadata": {},
     "output_type": "execute_result"
    }
   ],
   "source": [
    "res_git.json()[:1]"
   ]
  },
  {
   "cell_type": "code",
   "execution_count": 8,
   "id": "e2a26752",
   "metadata": {},
   "outputs": [],
   "source": [
    "# Da una lista vacia al no haber ningun commit desde la semana pasada"
   ]
  },
  {
   "cell_type": "code",
   "execution_count": null,
   "id": "37a7f155",
   "metadata": {},
   "outputs": [],
   "source": []
  },
  {
   "cell_type": "code",
   "execution_count": 17,
   "id": "c98cc50e",
   "metadata": {},
   "outputs": [
    {
     "data": {
      "text/plain": [
       "<Response [200]>"
      ]
     },
     "execution_count": 17,
     "metadata": {},
     "output_type": "execute_result"
    }
   ],
   "source": [
    "url = 'https://api.github.com/repos/alorenzoti/Project-shark/commits?since={2023-01-30T00:00:01Z}'\n",
    "res_git=req.get(url, headers=HEADER)\n",
    "\n",
    "res_git"
   ]
  },
  {
   "cell_type": "code",
   "execution_count": 41,
   "id": "692bdc9f",
   "metadata": {},
   "outputs": [
    {
     "data": {
      "text/plain": [
       "[{'sha': 'fea506d7ac06d81508e67e623ff9c1193893a848',\n",
       "  'node_id': 'C_kwDOI2cUFdoAKGZlYTUwNmQ3YWMwNmQ4MTUwOGU2N2U2MjNmZjljMTE5Mzg5M2E4NDg',\n",
       "  'commit': {'author': {'name': 'alvarolorenzoti',\n",
       "    'email': 'alvarolorenzoti@gmail.com',\n",
       "    'date': '2023-01-31T11:49:20Z'},\n",
       "   'committer': {'name': 'alvarolorenzoti',\n",
       "    'email': 'alvarolorenzoti@gmail.com',\n",
       "    'date': '2023-01-31T11:49:20Z'},\n",
       "   'message': 'describe esto2',\n",
       "   'tree': {'sha': '8710e82122b873d9b317db9ff2e361a0427d5ea9',\n",
       "    'url': 'https://api.github.com/repos/alorenzoti/Project-shark/git/trees/8710e82122b873d9b317db9ff2e361a0427d5ea9'},\n",
       "   'url': 'https://api.github.com/repos/alorenzoti/Project-shark/git/commits/fea506d7ac06d81508e67e623ff9c1193893a848',\n",
       "   'comment_count': 0,\n",
       "   'verification': {'verified': False,\n",
       "    'reason': 'unsigned',\n",
       "    'signature': None,\n",
       "    'payload': None}},\n",
       "  'url': 'https://api.github.com/repos/alorenzoti/Project-shark/commits/fea506d7ac06d81508e67e623ff9c1193893a848',\n",
       "  'html_url': 'https://github.com/alorenzoti/Project-shark/commit/fea506d7ac06d81508e67e623ff9c1193893a848',\n",
       "  'comments_url': 'https://api.github.com/repos/alorenzoti/Project-shark/commits/fea506d7ac06d81508e67e623ff9c1193893a848/comments',\n",
       "  'author': {'login': 'alorenzoti',\n",
       "   'id': 78368326,\n",
       "   'node_id': 'MDQ6VXNlcjc4MzY4MzI2',\n",
       "   'avatar_url': 'https://avatars.githubusercontent.com/u/78368326?v=4',\n",
       "   'gravatar_id': '',\n",
       "   'url': 'https://api.github.com/users/alorenzoti',\n",
       "   'html_url': 'https://github.com/alorenzoti',\n",
       "   'followers_url': 'https://api.github.com/users/alorenzoti/followers',\n",
       "   'following_url': 'https://api.github.com/users/alorenzoti/following{/other_user}',\n",
       "   'gists_url': 'https://api.github.com/users/alorenzoti/gists{/gist_id}',\n",
       "   'starred_url': 'https://api.github.com/users/alorenzoti/starred{/owner}{/repo}',\n",
       "   'subscriptions_url': 'https://api.github.com/users/alorenzoti/subscriptions',\n",
       "   'organizations_url': 'https://api.github.com/users/alorenzoti/orgs',\n",
       "   'repos_url': 'https://api.github.com/users/alorenzoti/repos',\n",
       "   'events_url': 'https://api.github.com/users/alorenzoti/events{/privacy}',\n",
       "   'received_events_url': 'https://api.github.com/users/alorenzoti/received_events',\n",
       "   'type': 'User',\n",
       "   'site_admin': False},\n",
       "  'committer': {'login': 'alorenzoti',\n",
       "   'id': 78368326,\n",
       "   'node_id': 'MDQ6VXNlcjc4MzY4MzI2',\n",
       "   'avatar_url': 'https://avatars.githubusercontent.com/u/78368326?v=4',\n",
       "   'gravatar_id': '',\n",
       "   'url': 'https://api.github.com/users/alorenzoti',\n",
       "   'html_url': 'https://github.com/alorenzoti',\n",
       "   'followers_url': 'https://api.github.com/users/alorenzoti/followers',\n",
       "   'following_url': 'https://api.github.com/users/alorenzoti/following{/other_user}',\n",
       "   'gists_url': 'https://api.github.com/users/alorenzoti/gists{/gist_id}',\n",
       "   'starred_url': 'https://api.github.com/users/alorenzoti/starred{/owner}{/repo}',\n",
       "   'subscriptions_url': 'https://api.github.com/users/alorenzoti/subscriptions',\n",
       "   'organizations_url': 'https://api.github.com/users/alorenzoti/orgs',\n",
       "   'repos_url': 'https://api.github.com/users/alorenzoti/repos',\n",
       "   'events_url': 'https://api.github.com/users/alorenzoti/events{/privacy}',\n",
       "   'received_events_url': 'https://api.github.com/users/alorenzoti/received_events',\n",
       "   'type': 'User',\n",
       "   'site_admin': False},\n",
       "  'parents': [{'sha': '1f0568ff8e3cf9e06e63995a3ee29e7983d79f17',\n",
       "    'url': 'https://api.github.com/repos/alorenzoti/Project-shark/commits/1f0568ff8e3cf9e06e63995a3ee29e7983d79f17',\n",
       "    'html_url': 'https://github.com/alorenzoti/Project-shark/commit/1f0568ff8e3cf9e06e63995a3ee29e7983d79f17'}]}]"
      ]
     },
     "execution_count": 41,
     "metadata": {},
     "output_type": "execute_result"
    }
   ],
   "source": [
    "res_git.json()[:1]"
   ]
  },
  {
   "cell_type": "code",
   "execution_count": 34,
   "id": "64caf830",
   "metadata": {},
   "outputs": [
    {
     "name": "stdout",
     "output_type": "stream",
     "text": [
      "13\n"
     ]
    }
   ],
   "source": [
    "contador=0\n",
    "for e in res_git.json():\n",
    "    contador+=1\n",
    "print(lst)"
   ]
  },
  {
   "cell_type": "code",
   "execution_count": 42,
   "id": "bd98c560",
   "metadata": {},
   "outputs": [
    {
     "data": {
      "text/plain": [
       "13"
      ]
     },
     "execution_count": 42,
     "metadata": {},
     "output_type": "execute_result"
    }
   ],
   "source": [
    "len(res_git.json())"
   ]
  },
  {
   "cell_type": "code",
   "execution_count": 38,
   "id": "ccc0e2c2",
   "metadata": {},
   "outputs": [
    {
     "name": "stdout",
     "output_type": "stream",
     "text": [
      "[{'author': {'name': 'alvarolorenzoti', 'email': 'alvarolorenzoti@gmail.com', 'date': '2023-01-31T11:49:20Z'}, 'committer': {'name': 'alvarolorenzoti', 'email': 'alvarolorenzoti@gmail.com', 'date': '2023-01-31T11:49:20Z'}, 'message': 'describe esto2', 'tree': {'sha': '8710e82122b873d9b317db9ff2e361a0427d5ea9', 'url': 'https://api.github.com/repos/alorenzoti/Project-shark/git/trees/8710e82122b873d9b317db9ff2e361a0427d5ea9'}, 'url': 'https://api.github.com/repos/alorenzoti/Project-shark/git/commits/fea506d7ac06d81508e67e623ff9c1193893a848', 'comment_count': 0, 'verification': {'verified': False, 'reason': 'unsigned', 'signature': None, 'payload': None}}, {'author': {'name': 'alvarolorenzoti', 'email': 'alvarolorenzoti@gmail.com', 'date': '2023-01-31T11:47:36Z'}, 'committer': {'name': 'alvarolorenzoti', 'email': 'alvarolorenzoti@gmail.com', 'date': '2023-01-31T11:47:36Z'}, 'message': \"Merge branch 'main' of https://github.com/alorenzoti/Project-shark\", 'tree': {'sha': '78cd95b523714525321f86c694771552f7d21f19', 'url': 'https://api.github.com/repos/alorenzoti/Project-shark/git/trees/78cd95b523714525321f86c694771552f7d21f19'}, 'url': 'https://api.github.com/repos/alorenzoti/Project-shark/git/commits/1f0568ff8e3cf9e06e63995a3ee29e7983d79f17', 'comment_count': 0, 'verification': {'verified': False, 'reason': 'unsigned', 'signature': None, 'payload': None}}, {'author': {'name': 'alvarolorenzoti', 'email': 'alvarolorenzoti@gmail.com', 'date': '2023-01-31T11:46:59Z'}, 'committer': {'name': 'alvarolorenzoti', 'email': 'alvarolorenzoti@gmail.com', 'date': '2023-01-31T11:46:59Z'}, 'message': 'describe esto', 'tree': {'sha': 'b5bee73da7e892c940dfe5988933eda34bfde214', 'url': 'https://api.github.com/repos/alorenzoti/Project-shark/git/trees/b5bee73da7e892c940dfe5988933eda34bfde214'}, 'url': 'https://api.github.com/repos/alorenzoti/Project-shark/git/commits/289da28b14782c5bb1275931407a9f1613ea5a9a', 'comment_count': 0, 'verification': {'verified': False, 'reason': 'unsigned', 'signature': None, 'payload': None}}, {'author': {'name': 'alorenzoti', 'email': '78368326+alorenzoti@users.noreply.github.com', 'date': '2023-01-31T08:27:43Z'}, 'committer': {'name': 'GitHub', 'email': 'noreply@github.com', 'date': '2023-01-31T08:27:43Z'}, 'message': 'Update README.md', 'tree': {'sha': '21589dba90f32a4e3157e59179c5dc14f080e4b5', 'url': 'https://api.github.com/repos/alorenzoti/Project-shark/git/trees/21589dba90f32a4e3157e59179c5dc14f080e4b5'}, 'url': 'https://api.github.com/repos/alorenzoti/Project-shark/git/commits/5a17c9951214d41743c72dacf9540173240a2d48', 'comment_count': 0, 'verification': {'verified': True, 'reason': 'valid', 'signature': '-----BEGIN PGP SIGNATURE-----\\n\\nwsBcBAABCAAQBQJj2ND/CRBK7hj4Ov3rIwAAvrYIAJJVFRwsCyGaY6jCY45NgFm8\\nwmA6emUYFT8wYqsr9cKUB976Ef60jQarp1vRNpqJdYqpU+54F4rpA+/R3c+dLW/2\\netoc9/rzShkOfhXtFReGVMVyXZKZgB6Ypi96gh8xQC+ScLr+Fo0eewKHUVTzgBem\\nyuOk/uOfOiSpKLnaipqZuw1i6/oAbjIotkxf0n/7d2THCNNjw8/Lcr08grCiNi7p\\n47aCKKJpXdehT0JQ6UeAAw+pYsgkskrI00aIS1UxW76AsOapCAF4DVOS8guQ4mdl\\nhBmPHinKIXgrbbuGHHxLgzrlD54oN4Taot4jyC3Js/6yqbJsrkL9SV0zm8gq0GE=\\n=zAny\\n-----END PGP SIGNATURE-----\\n', 'payload': 'tree 21589dba90f32a4e3157e59179c5dc14f080e4b5\\nparent 1fac107ec12c24ee5d530966c525b2fb3eca122f\\nauthor alorenzoti <78368326+alorenzoti@users.noreply.github.com> 1675153663 +0100\\ncommitter GitHub <noreply@github.com> 1675153663 +0100\\n\\nUpdate README.md'}}, {'author': {'name': 'alvarolorenzoti', 'email': 'alvarolorenzoti@gmail.com', 'date': '2023-01-31T08:25:43Z'}, 'committer': {'name': 'alvarolorenzoti', 'email': 'alvarolorenzoti@gmail.com', 'date': '2023-01-31T08:25:43Z'}, 'message': 'sin unknown en grafica', 'tree': {'sha': 'bfa3059b07926285dd8cd2c76fa42cbc5899c4ea', 'url': 'https://api.github.com/repos/alorenzoti/Project-shark/git/trees/bfa3059b07926285dd8cd2c76fa42cbc5899c4ea'}, 'url': 'https://api.github.com/repos/alorenzoti/Project-shark/git/commits/1fac107ec12c24ee5d530966c525b2fb3eca122f', 'comment_count': 0, 'verification': {'verified': False, 'reason': 'unsigned', 'signature': None, 'payload': None}}, {'author': {'name': 'alvarolorenzoti', 'email': 'alvarolorenzoti@gmail.com', 'date': '2023-01-31T06:54:47Z'}, 'committer': {'name': 'alvarolorenzoti', 'email': 'alvarolorenzoti@gmail.com', 'date': '2023-01-31T06:54:47Z'}, 'message': 'last one', 'tree': {'sha': '48922050d99e7a118bb00a982e2ea44f99f97c4f', 'url': 'https://api.github.com/repos/alorenzoti/Project-shark/git/trees/48922050d99e7a118bb00a982e2ea44f99f97c4f'}, 'url': 'https://api.github.com/repos/alorenzoti/Project-shark/git/commits/4a35f81fc86b105baa8dd709fc87755fe1264241', 'comment_count': 0, 'verification': {'verified': False, 'reason': 'unsigned', 'signature': None, 'payload': None}}, {'author': {'name': 'alvarolorenzoti', 'email': 'alvarolorenzoti@gmail.com', 'date': '2023-01-30T19:33:02Z'}, 'committer': {'name': 'alvarolorenzoti', 'email': 'alvarolorenzoti@gmail.com', 'date': '2023-01-30T19:33:02Z'}, 'message': \"Merge branch 'main' of https://github.com/alorenzoti/Project-shark\", 'tree': {'sha': 'fcaf00e8b7d5f7e00004508834d29acc852aea95', 'url': 'https://api.github.com/repos/alorenzoti/Project-shark/git/trees/fcaf00e8b7d5f7e00004508834d29acc852aea95'}, 'url': 'https://api.github.com/repos/alorenzoti/Project-shark/git/commits/f22cd44cac1edb6c2fc997a7b7715620296b7b1a', 'comment_count': 0, 'verification': {'verified': False, 'reason': 'unsigned', 'signature': None, 'payload': None}}, {'author': {'name': 'alvarolorenzoti', 'email': 'alvarolorenzoti@gmail.com', 'date': '2023-01-30T19:32:39Z'}, 'committer': {'name': 'alvarolorenzoti', 'email': 'alvarolorenzoti@gmail.com', 'date': '2023-01-30T19:32:39Z'}, 'message': 'Do de readme', 'tree': {'sha': '4f16b7f663b9e11e875185b9d623d7f6f3b37ef8', 'url': 'https://api.github.com/repos/alorenzoti/Project-shark/git/trees/4f16b7f663b9e11e875185b9d623d7f6f3b37ef8'}, 'url': 'https://api.github.com/repos/alorenzoti/Project-shark/git/commits/15260026304f8effd9ddbc2e33ab22e57cf48bd2', 'comment_count': 0, 'verification': {'verified': False, 'reason': 'unsigned', 'signature': None, 'payload': None}}, {'author': {'name': 'alorenzoti', 'email': '78368326+alorenzoti@users.noreply.github.com', 'date': '2023-01-30T19:27:47Z'}, 'committer': {'name': 'GitHub', 'email': 'noreply@github.com', 'date': '2023-01-30T19:27:47Z'}, 'message': 'Update README.md', 'tree': {'sha': '091b2eb37ccf80906c7e67a9177d68325134ac8d', 'url': 'https://api.github.com/repos/alorenzoti/Project-shark/git/trees/091b2eb37ccf80906c7e67a9177d68325134ac8d'}, 'url': 'https://api.github.com/repos/alorenzoti/Project-shark/git/commits/abec595f1d7583775b64bbd83c583c6c7deb9b2f', 'comment_count': 0, 'verification': {'verified': True, 'reason': 'valid', 'signature': '-----BEGIN PGP SIGNATURE-----\\n\\nwsBcBAABCAAQBQJj2BozCRBK7hj4Ov3rIwAApMgIAFmtpz6Z7LJZaZ8DP7sCGO6u\\ny3WclmTWaHl3DhpNEj/dLSKjFVr5+b2OECPl2YQAhz0y6Yq2QUuMrB9wrZVhzXvl\\niz+YpcRBl0qfp0k7oSW4tVz5GWu5pTvUzVrBzdcMlMpAlSett/ztcpeGt6hqOvjt\\naGMxArq29I8Rh039TpVtR154yyd6v6rAcx8z4IDWlTkqDtZVTErGU02DX2PTpEIi\\nlUcyrw4RrFiCjnNNUM2CdC38//cBEf7/S727dDBGTMktwrXwaUgfsPQ/dIiKxC+m\\nl/55iOVU/HqV1T0v/QwV5jIgLyjpCnYwCJL0qnrUjtA8ylHyPxmBfAc1/Wl4QA8=\\n=svlz\\n-----END PGP SIGNATURE-----\\n', 'payload': 'tree 091b2eb37ccf80906c7e67a9177d68325134ac8d\\nparent 4d49908d8ca131a9f3cb5d75c66184d789a4513a\\nauthor alorenzoti <78368326+alorenzoti@users.noreply.github.com> 1675106867 +0100\\ncommitter GitHub <noreply@github.com> 1675106867 +0100\\n\\nUpdate README.md'}}, {'author': {'name': 'alvarolorenzoti', 'email': 'alvarolorenzoti@gmail.com', 'date': '2023-01-30T19:17:32Z'}, 'committer': {'name': 'alvarolorenzoti', 'email': 'alvarolorenzoti@gmail.com', 'date': '2023-01-30T19:17:32Z'}, 'message': 'Do de readme', 'tree': {'sha': '1337d4250790976c792d345d3a172f86062c5aa4', 'url': 'https://api.github.com/repos/alorenzoti/Project-shark/git/trees/1337d4250790976c792d345d3a172f86062c5aa4'}, 'url': 'https://api.github.com/repos/alorenzoti/Project-shark/git/commits/4d49908d8ca131a9f3cb5d75c66184d789a4513a', 'comment_count': 0, 'verification': {'verified': False, 'reason': 'unsigned', 'signature': None, 'payload': None}}, {'author': {'name': 'alvarolorenzoti', 'email': 'alvarolorenzoti@gmail.com', 'date': '2023-01-30T18:55:01Z'}, 'committer': {'name': 'alvarolorenzoti', 'email': 'alvarolorenzoti@gmail.com', 'date': '2023-01-30T18:55:01Z'}, 'message': 'Done do de readme', 'tree': {'sha': '5e26f53bad13172ac325a6f8b192f251784eccb9', 'url': 'https://api.github.com/repos/alorenzoti/Project-shark/git/trees/5e26f53bad13172ac325a6f8b192f251784eccb9'}, 'url': 'https://api.github.com/repos/alorenzoti/Project-shark/git/commits/d550cb669d2eb12c1387a0ded608f15a3f2590d4', 'comment_count': 0, 'verification': {'verified': False, 'reason': 'unsigned', 'signature': None, 'payload': None}}, {'author': {'name': 'alvarolorenzoti', 'email': 'alvarolorenzoti@gmail.com', 'date': '2023-01-30T18:54:09Z'}, 'committer': {'name': 'alvarolorenzoti', 'email': 'alvarolorenzoti@gmail.com', 'date': '2023-01-30T18:54:09Z'}, 'message': 'Done do de readme', 'tree': {'sha': 'a5719cdaec03552480aa36c811784275c483793b', 'url': 'https://api.github.com/repos/alorenzoti/Project-shark/git/trees/a5719cdaec03552480aa36c811784275c483793b'}, 'url': 'https://api.github.com/repos/alorenzoti/Project-shark/git/commits/d294bc2253e93986cc5525dd1f2a316763cf5f13', 'comment_count': 0, 'verification': {'verified': False, 'reason': 'unsigned', 'signature': None, 'payload': None}}, {'author': {'name': 'alvarolorenzoti', 'email': 'alvarolorenzoti@gmail.com', 'date': '2023-01-30T08:10:36Z'}, 'committer': {'name': 'alvarolorenzoti', 'email': 'alvarolorenzoti@gmail.com', 'date': '2023-01-30T08:10:36Z'}, 'message': 'lunes', 'tree': {'sha': 'b0bcd3ed078eab40c0b4b468c8abdad3ec20cc01', 'url': 'https://api.github.com/repos/alorenzoti/Project-shark/git/trees/b0bcd3ed078eab40c0b4b468c8abdad3ec20cc01'}, 'url': 'https://api.github.com/repos/alorenzoti/Project-shark/git/commits/de2a48defdfa7a6a4e5b3a17942f399e9b031b89', 'comment_count': 0, 'verification': {'verified': False, 'reason': 'unsigned', 'signature': None, 'payload': None}}]\n"
     ]
    }
   ],
   "source": [
    "lst=[]\n",
    "for e in res_git.json():\n",
    "    lst.append(e['commit'])\n",
    "print(lst)"
   ]
  },
  {
   "cell_type": "code",
   "execution_count": null,
   "id": "576bbcbc",
   "metadata": {},
   "outputs": [],
   "source": []
  }
 ],
 "metadata": {
  "kernelspec": {
   "display_name": "Python 3 (ipykernel)",
   "language": "python",
   "name": "python3"
  },
  "language_info": {
   "codemirror_mode": {
    "name": "ipython",
    "version": 3
   },
   "file_extension": ".py",
   "mimetype": "text/x-python",
   "name": "python",
   "nbconvert_exporter": "python",
   "pygments_lexer": "ipython3",
   "version": "3.9.13"
  },
  "toc": {
   "base_numbering": 1,
   "nav_menu": {},
   "number_sections": true,
   "sideBar": true,
   "skip_h1_title": true,
   "title_cell": "Table of Contents",
   "title_sidebar": "Contents",
   "toc_cell": false,
   "toc_position": {
    "height": "calc(100% - 180px)",
    "left": "10px",
    "top": "150px",
    "width": "288px"
   },
   "toc_section_display": true,
   "toc_window_display": true
  }
 },
 "nbformat": 4,
 "nbformat_minor": 5
}
