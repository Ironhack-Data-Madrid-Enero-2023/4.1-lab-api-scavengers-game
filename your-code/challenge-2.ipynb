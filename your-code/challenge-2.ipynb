{
 "cells": [
  {
   "cell_type": "markdown",
   "id": "threaded-asbestos",
   "metadata": {},
   "source": [
    "# Challenge 2: Count Commits\n",
    "\n",
    "Count how many commits were made in the past week.\n",
    "\n",
    "Obtain all the commits made in the past week via API, which is a JSON array that contains multiple commit objects.\n",
    "\n",
    "Count how many commit objects are contained in the array."
   ]
  },
  {
   "cell_type": "markdown",
   "id": "norwegian-praise",
   "metadata": {},
   "source": [
    "⚠️ **Remember to limit your output before submission**."
   ]
  },
  {
   "cell_type": "code",
   "execution_count": 16,
   "id": "developing-printing",
   "metadata": {},
   "outputs": [],
   "source": [
    "import json\n",
    "import requests as req\n",
    "from urllib.request import urlopen\n",
    "\n",
    "with open('../../PAT.txt', 'r') as file:\n",
    "    pass_=file.read()\n",
    "    HEADER={'Authorization': 'token ' + pass_}"
   ]
  },
  {
   "cell_type": "code",
   "execution_count": 17,
   "id": "creative-stable",
   "metadata": {},
   "outputs": [
    {
     "data": {
      "text/plain": [
       "<Response [200]>"
      ]
     },
     "execution_count": 17,
     "metadata": {},
     "output_type": "execute_result"
    }
   ],
   "source": [
    "url =   'https://api.github.com/repos/Ironhack-Data-Madrid-Enero-2023/apuntes_clase/commits'\n",
    "res_git=req.get(url,headers=HEADER)\n",
    "\n",
    "res_git"
   ]
  },
  {
   "cell_type": "code",
   "execution_count": 18,
   "id": "0974ce98",
   "metadata": {},
   "outputs": [
    {
     "data": {
      "text/plain": [
       "30"
      ]
     },
     "execution_count": 18,
     "metadata": {},
     "output_type": "execute_result"
    }
   ],
   "source": [
    "len(res_git.json())"
   ]
  },
  {
   "cell_type": "code",
   "execution_count": 39,
   "id": "ongoing-taylor",
   "metadata": {},
   "outputs": [],
   "source": [
    "last_week = []"
   ]
  },
  {
   "cell_type": "code",
   "execution_count": 40,
   "id": "f8cca1e5",
   "metadata": {},
   "outputs": [],
   "source": [
    "for i in res_git.json():\n",
    "    x = i['commit']['committer']['date']\n",
    "    if int(x[8:10]) in {1,2,3,4,5,6,31}:\n",
    "        last_week.append( i['commit']['committer']['date'])\n",
    "    "
   ]
  },
  {
   "cell_type": "code",
   "execution_count": 41,
   "id": "6f2a2a52",
   "metadata": {},
   "outputs": [
    {
     "name": "stdout",
     "output_type": "stream",
     "text": [
      "18\n"
     ]
    }
   ],
   "source": [
    "print(len(last_week))"
   ]
  },
  {
   "cell_type": "code",
   "execution_count": 42,
   "id": "f5d75cdf",
   "metadata": {},
   "outputs": [
    {
     "name": "stdout",
     "output_type": "stream",
     "text": [
      "['api', 'api', 'api', 'api', 'api', 'mongo', 'mongo', 'mongo', 'mongo', 'postgrsql en python', 'sql en python', 'sql en python', 'sql en python', 'sql2', 'sql2', 'sql2', 'sql2', 'sql2', 'sql2', 'oop', 'bases de datos - sql', 'limpieza 2', 'limpieza 2', 'limpieza 2', 'limpieza 2', 'limpieza 2', 'limpieza', 'limpieza', 'limpieza', 'limpieza']\n"
     ]
    }
   ],
   "source": [
    "L = []\n",
    "for i in res_git.json():\n",
    "    L.append(i['commit']['message'])\n",
    "print(L)"
   ]
  },
  {
   "cell_type": "code",
   "execution_count": 43,
   "id": "9ee3eaf7",
   "metadata": {},
   "outputs": [
    {
     "name": "stdout",
     "output_type": "stream",
     "text": [
      "7\n"
     ]
    }
   ],
   "source": [
    "print(len(res_git.json()[0]['commit']))"
   ]
  },
  {
   "cell_type": "code",
   "execution_count": null,
   "id": "29f8dd85",
   "metadata": {},
   "outputs": [],
   "source": []
  }
 ],
 "metadata": {
  "kernelspec": {
   "display_name": "base",
   "language": "python",
   "name": "python3"
  },
  "language_info": {
   "codemirror_mode": {
    "name": "ipython",
    "version": 3
   },
   "file_extension": ".py",
   "mimetype": "text/x-python",
   "name": "python",
   "nbconvert_exporter": "python",
   "pygments_lexer": "ipython3",
   "version": "3.9.16"
  },
  "toc": {
   "base_numbering": 1,
   "nav_menu": {},
   "number_sections": true,
   "sideBar": true,
   "skip_h1_title": true,
   "title_cell": "Table of Contents",
   "title_sidebar": "Contents",
   "toc_cell": false,
   "toc_position": {
    "height": "calc(100% - 180px)",
    "left": "10px",
    "top": "150px",
    "width": "288px"
   },
   "toc_section_display": true,
   "toc_window_display": true
  },
  "vscode": {
   "interpreter": {
    "hash": "9412b45e6a57aa9914730508726d49801d3b2c579f461e1fb13c705887a7b1f6"
   }
  }
 },
 "nbformat": 4,
 "nbformat_minor": 5
}
