{
 "cells": [
  {
   "cell_type": "markdown",
   "id": "threaded-asbestos",
   "metadata": {},
   "source": [
    "# Challenge 2: Count Commits\n",
    "\n",
    "Count how many commits were made in the past week.\n",
    "\n",
    "Obtain all the commits made in the past week via API, which is a JSON array that contains multiple commit objects.\n",
    "\n",
    "Count how many commit objects are contained in the array."
   ]
  },
  {
   "cell_type": "markdown",
   "id": "norwegian-praise",
   "metadata": {},
   "source": [
    "⚠️ **Remember to limit your output before submission**."
   ]
  },
  {
   "cell_type": "code",
   "execution_count": 2,
   "id": "creative-stable",
   "metadata": {},
   "outputs": [],
   "source": [
    "# Example: print(variable[:10]) "
   ]
  },
  {
   "cell_type": "code",
   "execution_count": 4,
   "id": "13cf608c",
   "metadata": {},
   "outputs": [],
   "source": [
    "import json\n",
    "import requests"
   ]
  },
  {
   "cell_type": "code",
   "execution_count": 5,
   "id": "ongoing-taylor",
   "metadata": {},
   "outputs": [],
   "source": [
    "with open('../password.txt', 'r') as file:\n",
    "    pass_=file.read()"
   ]
  },
  {
   "cell_type": "code",
   "execution_count": 6,
   "id": "0231a157",
   "metadata": {},
   "outputs": [],
   "source": [
    "HEADER={'Authorization': 'token ' + pass_}"
   ]
  },
  {
   "cell_type": "code",
   "execution_count": 7,
   "id": "cf34c7ed",
   "metadata": {},
   "outputs": [
    {
     "data": {
      "text/plain": [
       "<Response [200]>"
      ]
     },
     "execution_count": 7,
     "metadata": {},
     "output_type": "execute_result"
    }
   ],
   "source": [
    "url = 'https://api.github.com/repos/Ironhack-Data-Madrid-Enero-2023/apuntes_clase/commits'\n",
    "\n",
    "response = requests.get(url, headers=HEADER)\n",
    "\n",
    "response"
   ]
  },
  {
   "cell_type": "code",
   "execution_count": 9,
   "id": "36068e07",
   "metadata": {},
   "outputs": [
    {
     "data": {
      "text/plain": [
       "30"
      ]
     },
     "execution_count": 9,
     "metadata": {},
     "output_type": "execute_result"
    }
   ],
   "source": [
    "len(response.json())"
   ]
  },
  {
   "cell_type": "code",
   "execution_count": 13,
   "id": "e915639b",
   "metadata": {},
   "outputs": [
    {
     "data": {
      "text/plain": [
       "{'sha': 'b4d21a00e00b9e4258a82fd4b3d51d6006d95a81',\n",
       " 'node_id': 'C_kwDOIw3OwtoAKGI0ZDIxYTAwZTAwYjllNDI1OGE4MmZkNGIzZDUxZDYwMDZkOTVhODE',\n",
       " 'commit': {'author': {'name': 'iudh',\n",
       "   'email': 'yeho@mail.com',\n",
       "   'date': '2023-01-25T08:37:57Z'},\n",
       "  'committer': {'name': 'iudh',\n",
       "   'email': 'yeho@mail.com',\n",
       "   'date': '2023-01-25T08:37:57Z'},\n",
       "  'message': 'limpieza',\n",
       "  'tree': {'sha': 'f309dea91abad486b806c7e5ab869dd81ce6a03d',\n",
       "   'url': 'https://api.github.com/repos/Ironhack-Data-Madrid-Enero-2023/apuntes_clase/git/trees/f309dea91abad486b806c7e5ab869dd81ce6a03d'},\n",
       "  'url': 'https://api.github.com/repos/Ironhack-Data-Madrid-Enero-2023/apuntes_clase/git/commits/b4d21a00e00b9e4258a82fd4b3d51d6006d95a81',\n",
       "  'comment_count': 0,\n",
       "  'verification': {'verified': False,\n",
       "   'reason': 'unsigned',\n",
       "   'signature': None,\n",
       "   'payload': None}},\n",
       " 'url': 'https://api.github.com/repos/Ironhack-Data-Madrid-Enero-2023/apuntes_clase/commits/b4d21a00e00b9e4258a82fd4b3d51d6006d95a81',\n",
       " 'html_url': 'https://github.com/Ironhack-Data-Madrid-Enero-2023/apuntes_clase/commit/b4d21a00e00b9e4258a82fd4b3d51d6006d95a81',\n",
       " 'comments_url': 'https://api.github.com/repos/Ironhack-Data-Madrid-Enero-2023/apuntes_clase/commits/b4d21a00e00b9e4258a82fd4b3d51d6006d95a81/comments',\n",
       " 'author': {'login': 'YonatanRA',\n",
       "  'id': 47545401,\n",
       "  'node_id': 'MDQ6VXNlcjQ3NTQ1NDAx',\n",
       "  'avatar_url': 'https://avatars.githubusercontent.com/u/47545401?v=4',\n",
       "  'gravatar_id': '',\n",
       "  'url': 'https://api.github.com/users/YonatanRA',\n",
       "  'html_url': 'https://github.com/YonatanRA',\n",
       "  'followers_url': 'https://api.github.com/users/YonatanRA/followers',\n",
       "  'following_url': 'https://api.github.com/users/YonatanRA/following{/other_user}',\n",
       "  'gists_url': 'https://api.github.com/users/YonatanRA/gists{/gist_id}',\n",
       "  'starred_url': 'https://api.github.com/users/YonatanRA/starred{/owner}{/repo}',\n",
       "  'subscriptions_url': 'https://api.github.com/users/YonatanRA/subscriptions',\n",
       "  'organizations_url': 'https://api.github.com/users/YonatanRA/orgs',\n",
       "  'repos_url': 'https://api.github.com/users/YonatanRA/repos',\n",
       "  'events_url': 'https://api.github.com/users/YonatanRA/events{/privacy}',\n",
       "  'received_events_url': 'https://api.github.com/users/YonatanRA/received_events',\n",
       "  'type': 'User',\n",
       "  'site_admin': False},\n",
       " 'committer': {'login': 'YonatanRA',\n",
       "  'id': 47545401,\n",
       "  'node_id': 'MDQ6VXNlcjQ3NTQ1NDAx',\n",
       "  'avatar_url': 'https://avatars.githubusercontent.com/u/47545401?v=4',\n",
       "  'gravatar_id': '',\n",
       "  'url': 'https://api.github.com/users/YonatanRA',\n",
       "  'html_url': 'https://github.com/YonatanRA',\n",
       "  'followers_url': 'https://api.github.com/users/YonatanRA/followers',\n",
       "  'following_url': 'https://api.github.com/users/YonatanRA/following{/other_user}',\n",
       "  'gists_url': 'https://api.github.com/users/YonatanRA/gists{/gist_id}',\n",
       "  'starred_url': 'https://api.github.com/users/YonatanRA/starred{/owner}{/repo}',\n",
       "  'subscriptions_url': 'https://api.github.com/users/YonatanRA/subscriptions',\n",
       "  'organizations_url': 'https://api.github.com/users/YonatanRA/orgs',\n",
       "  'repos_url': 'https://api.github.com/users/YonatanRA/repos',\n",
       "  'events_url': 'https://api.github.com/users/YonatanRA/events{/privacy}',\n",
       "  'received_events_url': 'https://api.github.com/users/YonatanRA/received_events',\n",
       "  'type': 'User',\n",
       "  'site_admin': False},\n",
       " 'parents': [{'sha': '8d9008ce74fcf46ab9a04e26307808bf5b845df2',\n",
       "   'url': 'https://api.github.com/repos/Ironhack-Data-Madrid-Enero-2023/apuntes_clase/commits/8d9008ce74fcf46ab9a04e26307808bf5b845df2',\n",
       "   'html_url': 'https://github.com/Ironhack-Data-Madrid-Enero-2023/apuntes_clase/commit/8d9008ce74fcf46ab9a04e26307808bf5b845df2'}]}"
      ]
     },
     "execution_count": 13,
     "metadata": {},
     "output_type": "execute_result"
    }
   ],
   "source": [
    "response.json()[-1]"
   ]
  },
  {
   "cell_type": "code",
   "execution_count": 25,
   "id": "9c1c98cb",
   "metadata": {},
   "outputs": [
    {
     "data": {
      "text/plain": [
       "['2023-02-06T11:36:11Z',\n",
       " '2023-02-06T10:15:06Z',\n",
       " '2023-02-06T09:54:13Z',\n",
       " '2023-02-06T08:42:07Z',\n",
       " '2023-02-06T08:02:49Z',\n",
       " '2023-02-02T11:50:17Z',\n",
       " '2023-02-02T10:13:52Z',\n",
       " '2023-02-02T10:12:56Z',\n",
       " '2023-02-02T07:50:32Z',\n",
       " '2023-02-01T10:52:15Z',\n",
       " '2023-02-01T09:28:16Z',\n",
       " '2023-02-01T09:16:38Z',\n",
       " '2023-02-01T07:46:01Z',\n",
       " '2023-01-31T12:45:41Z',\n",
       " '2023-01-31T08:34:05Z',\n",
       " '2023-01-31T08:30:49Z',\n",
       " '2023-01-31T08:06:36Z',\n",
       " '2023-01-31T08:03:44Z',\n",
       " '2023-01-30T19:45:14Z',\n",
       " '2023-01-29T10:41:56Z',\n",
       " '2023-01-29T10:33:30Z',\n",
       " '2023-01-26T11:39:17Z',\n",
       " '2023-01-26T11:38:12Z',\n",
       " '2023-01-26T10:16:49Z',\n",
       " '2023-01-26T09:09:59Z',\n",
       " '2023-01-25T20:23:35Z',\n",
       " '2023-01-25T11:44:56Z',\n",
       " '2023-01-25T10:14:13Z',\n",
       " '2023-01-25T08:38:58Z',\n",
       " '2023-01-25T08:37:57Z']"
      ]
     },
     "execution_count": 25,
     "metadata": {},
     "output_type": "execute_result"
    }
   ],
   "source": [
    "lst2 = []\n",
    "contador = 0\n",
    "\n",
    "for e in response.json():\n",
    "    lst2.append(response.json()[contador]['commit']['author']['date'])\n",
    "    contador += 1\n",
    "lst2\n",
    "\n"
   ]
  },
  {
   "cell_type": "code",
   "execution_count": 33,
   "id": "62d09c52",
   "metadata": {},
   "outputs": [
    {
     "data": {
      "text/plain": [
       "30"
      ]
     },
     "execution_count": 33,
     "metadata": {},
     "output_type": "execute_result"
    }
   ],
   "source": [
    "import datetime\n",
    "lst4 = []\n",
    "for e in lst2:\n",
    "    if '06' or '05' in e or '04' in e or '03' in e or '02' in e or '01' in e or '31' in e:\n",
    "        lst4.append(e)\n",
    "        \n",
    "len(lst4)\n",
    "\n"
   ]
  },
  {
   "cell_type": "code",
   "execution_count": null,
   "id": "ea5993e7",
   "metadata": {},
   "outputs": [],
   "source": []
  }
 ],
 "metadata": {
  "kernelspec": {
   "display_name": "Python 3 (ipykernel)",
   "language": "python",
   "name": "python3"
  },
  "language_info": {
   "codemirror_mode": {
    "name": "ipython",
    "version": 3
   },
   "file_extension": ".py",
   "mimetype": "text/x-python",
   "name": "python",
   "nbconvert_exporter": "python",
   "pygments_lexer": "ipython3",
   "version": "3.9.13"
  },
  "toc": {
   "base_numbering": 1,
   "nav_menu": {},
   "number_sections": true,
   "sideBar": true,
   "skip_h1_title": true,
   "title_cell": "Table of Contents",
   "title_sidebar": "Contents",
   "toc_cell": false,
   "toc_position": {
    "height": "calc(100% - 180px)",
    "left": "10px",
    "top": "150px",
    "width": "288px"
   },
   "toc_section_display": true,
   "toc_window_display": true
  }
 },
 "nbformat": 4,
 "nbformat_minor": 5
}
