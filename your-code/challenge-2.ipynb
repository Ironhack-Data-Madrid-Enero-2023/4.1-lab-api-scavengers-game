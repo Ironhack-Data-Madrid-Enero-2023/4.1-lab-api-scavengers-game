{
 "cells": [
  {
   "cell_type": "markdown",
   "id": "threaded-asbestos",
   "metadata": {},
   "source": [
    "# Challenge 2: Count Commits\n",
    "\n",
    "Count how many commits were made in the past week.\n",
    "\n",
    "Obtain all the commits made in the past week via API, which is a JSON array that contains multiple commit objects.\n",
    "\n",
    "Count how many commit objects are contained in the array."
   ]
  },
  {
   "cell_type": "markdown",
   "id": "norwegian-praise",
   "metadata": {},
   "source": [
    "⚠️ **Remember to limit your output before submission**."
   ]
  },
  {
   "cell_type": "code",
   "execution_count": 16,
   "id": "developing-printing",
   "metadata": {},
   "outputs": [],
   "source": [
    "#%pip install requests\n",
    "import json\n",
    "import requests as req\n",
    "with open(\"token.txt\") as f:\n",
    "    header = f.read().rstrip()\n",
    "    header={'Authorization': 'token ' + header}"
   ]
  },
  {
   "cell_type": "code",
   "execution_count": 17,
   "id": "cb1d8599",
   "metadata": {},
   "outputs": [],
   "source": [
    "url= 'https://api.github.com/repos/Ironhack-Data-Madrid-Enero-2023/apuntes_clase/commits'"
   ]
  },
  {
   "cell_type": "code",
   "execution_count": 22,
   "id": "e8bcff84",
   "metadata": {},
   "outputs": [],
   "source": [
    "x = req.get(url,headers=header)"
   ]
  },
  {
   "cell_type": "code",
   "execution_count": 53,
   "id": "889fea36",
   "metadata": {},
   "outputs": [
    {
     "data": {
      "text/plain": [
       "{'sha': '80c41cc32fd01d3270920ed5f93ff12b1576fba0',\n",
       " 'node_id': 'C_kwDOIw3OwtoAKDgwYzQxY2MzMmZkMDFkMzI3MDkyMGVkNWY5M2ZmMTJiMTU3NmZiYTA',\n",
       " 'commit': {'author': {'name': 'iudh',\n",
       "   'email': 'yeho@mail.com',\n",
       "   'date': '2023-02-06T11:36:11Z'},\n",
       "  'committer': {'name': 'iudh',\n",
       "   'email': 'yeho@mail.com',\n",
       "   'date': '2023-02-06T11:36:11Z'},\n",
       "  'message': 'api',\n",
       "  'tree': {'sha': 'c1ffacee4483313edc38f394642ce6c90ae90c4f',\n",
       "   'url': 'https://api.github.com/repos/Ironhack-Data-Madrid-Enero-2023/apuntes_clase/git/trees/c1ffacee4483313edc38f394642ce6c90ae90c4f'},\n",
       "  'url': 'https://api.github.com/repos/Ironhack-Data-Madrid-Enero-2023/apuntes_clase/git/commits/80c41cc32fd01d3270920ed5f93ff12b1576fba0',\n",
       "  'comment_count': 0,\n",
       "  'verification': {'verified': False,\n",
       "   'reason': 'unsigned',\n",
       "   'signature': None,\n",
       "   'payload': None}},\n",
       " 'url': 'https://api.github.com/repos/Ironhack-Data-Madrid-Enero-2023/apuntes_clase/commits/80c41cc32fd01d3270920ed5f93ff12b1576fba0',\n",
       " 'html_url': 'https://github.com/Ironhack-Data-Madrid-Enero-2023/apuntes_clase/commit/80c41cc32fd01d3270920ed5f93ff12b1576fba0',\n",
       " 'comments_url': 'https://api.github.com/repos/Ironhack-Data-Madrid-Enero-2023/apuntes_clase/commits/80c41cc32fd01d3270920ed5f93ff12b1576fba0/comments',\n",
       " 'author': {'login': 'YonatanRA',\n",
       "  'id': 47545401,\n",
       "  'node_id': 'MDQ6VXNlcjQ3NTQ1NDAx',\n",
       "  'avatar_url': 'https://avatars.githubusercontent.com/u/47545401?v=4',\n",
       "  'gravatar_id': '',\n",
       "  'url': 'https://api.github.com/users/YonatanRA',\n",
       "  'html_url': 'https://github.com/YonatanRA',\n",
       "  'followers_url': 'https://api.github.com/users/YonatanRA/followers',\n",
       "  'following_url': 'https://api.github.com/users/YonatanRA/following{/other_user}',\n",
       "  'gists_url': 'https://api.github.com/users/YonatanRA/gists{/gist_id}',\n",
       "  'starred_url': 'https://api.github.com/users/YonatanRA/starred{/owner}{/repo}',\n",
       "  'subscriptions_url': 'https://api.github.com/users/YonatanRA/subscriptions',\n",
       "  'organizations_url': 'https://api.github.com/users/YonatanRA/orgs',\n",
       "  'repos_url': 'https://api.github.com/users/YonatanRA/repos',\n",
       "  'events_url': 'https://api.github.com/users/YonatanRA/events{/privacy}',\n",
       "  'received_events_url': 'https://api.github.com/users/YonatanRA/received_events',\n",
       "  'type': 'User',\n",
       "  'site_admin': False},\n",
       " 'committer': {'login': 'YonatanRA',\n",
       "  'id': 47545401,\n",
       "  'node_id': 'MDQ6VXNlcjQ3NTQ1NDAx',\n",
       "  'avatar_url': 'https://avatars.githubusercontent.com/u/47545401?v=4',\n",
       "  'gravatar_id': '',\n",
       "  'url': 'https://api.github.com/users/YonatanRA',\n",
       "  'html_url': 'https://github.com/YonatanRA',\n",
       "  'followers_url': 'https://api.github.com/users/YonatanRA/followers',\n",
       "  'following_url': 'https://api.github.com/users/YonatanRA/following{/other_user}',\n",
       "  'gists_url': 'https://api.github.com/users/YonatanRA/gists{/gist_id}',\n",
       "  'starred_url': 'https://api.github.com/users/YonatanRA/starred{/owner}{/repo}',\n",
       "  'subscriptions_url': 'https://api.github.com/users/YonatanRA/subscriptions',\n",
       "  'organizations_url': 'https://api.github.com/users/YonatanRA/orgs',\n",
       "  'repos_url': 'https://api.github.com/users/YonatanRA/repos',\n",
       "  'events_url': 'https://api.github.com/users/YonatanRA/events{/privacy}',\n",
       "  'received_events_url': 'https://api.github.com/users/YonatanRA/received_events',\n",
       "  'type': 'User',\n",
       "  'site_admin': False},\n",
       " 'parents': [{'sha': 'c43fbcde6bed880a84f7cea659cc932b9763017e',\n",
       "   'url': 'https://api.github.com/repos/Ironhack-Data-Madrid-Enero-2023/apuntes_clase/commits/c43fbcde6bed880a84f7cea659cc932b9763017e',\n",
       "   'html_url': 'https://github.com/Ironhack-Data-Madrid-Enero-2023/apuntes_clase/commit/c43fbcde6bed880a84f7cea659cc932b9763017e'}]}"
      ]
     },
     "execution_count": 53,
     "metadata": {},
     "output_type": "execute_result"
    }
   ],
   "source": [
    "x.json()[0]"
   ]
  },
  {
   "cell_type": "code",
   "execution_count": 54,
   "id": "0f318a53",
   "metadata": {
    "scrolled": true
   },
   "outputs": [],
   "source": [
    "lista = []\n",
    "\n",
    "for i in x.json():\n",
    "    if int(i[\"commit\"][\"author\"][\"date\"][8:10]) in  {31,1,2,3,4,5,6}:\n",
    "        lista.append(i[\"commit\"][\"author\"][\"date\"])"
   ]
  },
  {
   "cell_type": "code",
   "execution_count": 57,
   "id": "cc33b655",
   "metadata": {},
   "outputs": [
    {
     "data": {
      "text/plain": [
       "(18,\n",
       " ['2023-02-06T11:36:11Z',\n",
       "  '2023-02-06T10:15:06Z',\n",
       "  '2023-02-06T09:54:13Z',\n",
       "  '2023-02-06T08:42:07Z',\n",
       "  '2023-02-06T08:02:49Z',\n",
       "  '2023-02-02T11:50:17Z',\n",
       "  '2023-02-02T10:13:52Z',\n",
       "  '2023-02-02T10:12:56Z',\n",
       "  '2023-02-02T07:50:32Z',\n",
       "  '2023-02-01T10:52:15Z',\n",
       "  '2023-02-01T09:28:16Z',\n",
       "  '2023-02-01T09:16:38Z',\n",
       "  '2023-02-01T07:46:01Z',\n",
       "  '2023-01-31T12:45:41Z',\n",
       "  '2023-01-31T08:34:05Z',\n",
       "  '2023-01-31T08:30:49Z',\n",
       "  '2023-01-31T08:06:36Z',\n",
       "  '2023-01-31T08:03:44Z'])"
      ]
     },
     "execution_count": 57,
     "metadata": {},
     "output_type": "execute_result"
    }
   ],
   "source": [
    "len(lista), lista"
   ]
  },
  {
   "cell_type": "code",
   "execution_count": null,
   "id": "551e159e",
   "metadata": {},
   "outputs": [],
   "source": []
  },
  {
   "cell_type": "code",
   "execution_count": null,
   "id": "ongoing-taylor",
   "metadata": {},
   "outputs": [],
   "source": []
  }
 ],
 "metadata": {
  "kernelspec": {
   "display_name": "Python 3 (ipykernel)",
   "language": "python",
   "name": "python3"
  },
  "language_info": {
   "codemirror_mode": {
    "name": "ipython",
    "version": 3
   },
   "file_extension": ".py",
   "mimetype": "text/x-python",
   "name": "python",
   "nbconvert_exporter": "python",
   "pygments_lexer": "ipython3",
   "version": "3.9.13"
  },
  "toc": {
   "base_numbering": 1,
   "nav_menu": {},
   "number_sections": true,
   "sideBar": true,
   "skip_h1_title": true,
   "title_cell": "Table of Contents",
   "title_sidebar": "Contents",
   "toc_cell": false,
   "toc_position": {
    "height": "calc(100% - 180px)",
    "left": "10px",
    "top": "150px",
    "width": "288px"
   },
   "toc_section_display": true,
   "toc_window_display": true
  }
 },
 "nbformat": 4,
 "nbformat_minor": 5
}
